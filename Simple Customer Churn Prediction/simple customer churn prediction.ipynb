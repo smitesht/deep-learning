{
 "cells": [
  {
   "cell_type": "code",
   "execution_count": null,
   "metadata": {},
   "outputs": [],
   "source": [
    "!pip install pandas\n",
    "!pip install seaborn\n",
    "!pip install matplotlib"
   ]
  },
  {
   "cell_type": "code",
   "execution_count": null,
   "metadata": {},
   "outputs": [],
   "source": [
    "!pip install -U scikit-learn"
   ]
  },
  {
   "cell_type": "code",
   "execution_count": 85,
   "metadata": {},
   "outputs": [],
   "source": [
    "import numpy as np\n",
    "import pandas as pd\n",
    "import seaborn as sns"
   ]
  },
  {
   "cell_type": "code",
   "execution_count": 86,
   "metadata": {},
   "outputs": [],
   "source": [
    "df = pd.read_csv('./Churn_Modelling.csv')"
   ]
  },
  {
   "cell_type": "code",
   "execution_count": 87,
   "metadata": {},
   "outputs": [
    {
     "data": {
      "text/html": [
       "<div>\n",
       "<style scoped>\n",
       "    .dataframe tbody tr th:only-of-type {\n",
       "        vertical-align: middle;\n",
       "    }\n",
       "\n",
       "    .dataframe tbody tr th {\n",
       "        vertical-align: top;\n",
       "    }\n",
       "\n",
       "    .dataframe thead th {\n",
       "        text-align: right;\n",
       "    }\n",
       "</style>\n",
       "<table border=\"1\" class=\"dataframe\">\n",
       "  <thead>\n",
       "    <tr style=\"text-align: right;\">\n",
       "      <th></th>\n",
       "      <th>RowNumber</th>\n",
       "      <th>CustomerId</th>\n",
       "      <th>Surname</th>\n",
       "      <th>CreditScore</th>\n",
       "      <th>Geography</th>\n",
       "      <th>Gender</th>\n",
       "      <th>Age</th>\n",
       "      <th>Tenure</th>\n",
       "      <th>Balance</th>\n",
       "      <th>NumOfProducts</th>\n",
       "      <th>HasCrCard</th>\n",
       "      <th>IsActiveMember</th>\n",
       "      <th>EstimatedSalary</th>\n",
       "      <th>Exited</th>\n",
       "    </tr>\n",
       "  </thead>\n",
       "  <tbody>\n",
       "    <tr>\n",
       "      <th>0</th>\n",
       "      <td>1</td>\n",
       "      <td>15634602</td>\n",
       "      <td>Hargrave</td>\n",
       "      <td>619</td>\n",
       "      <td>France</td>\n",
       "      <td>Female</td>\n",
       "      <td>42</td>\n",
       "      <td>2</td>\n",
       "      <td>0.00</td>\n",
       "      <td>1</td>\n",
       "      <td>1</td>\n",
       "      <td>1</td>\n",
       "      <td>101348.88</td>\n",
       "      <td>1</td>\n",
       "    </tr>\n",
       "    <tr>\n",
       "      <th>1</th>\n",
       "      <td>2</td>\n",
       "      <td>15647311</td>\n",
       "      <td>Hill</td>\n",
       "      <td>608</td>\n",
       "      <td>Spain</td>\n",
       "      <td>Female</td>\n",
       "      <td>41</td>\n",
       "      <td>1</td>\n",
       "      <td>83807.86</td>\n",
       "      <td>1</td>\n",
       "      <td>0</td>\n",
       "      <td>1</td>\n",
       "      <td>112542.58</td>\n",
       "      <td>0</td>\n",
       "    </tr>\n",
       "    <tr>\n",
       "      <th>2</th>\n",
       "      <td>3</td>\n",
       "      <td>15619304</td>\n",
       "      <td>Onio</td>\n",
       "      <td>502</td>\n",
       "      <td>France</td>\n",
       "      <td>Female</td>\n",
       "      <td>42</td>\n",
       "      <td>8</td>\n",
       "      <td>159660.80</td>\n",
       "      <td>3</td>\n",
       "      <td>1</td>\n",
       "      <td>0</td>\n",
       "      <td>113931.57</td>\n",
       "      <td>1</td>\n",
       "    </tr>\n",
       "    <tr>\n",
       "      <th>3</th>\n",
       "      <td>4</td>\n",
       "      <td>15701354</td>\n",
       "      <td>Boni</td>\n",
       "      <td>699</td>\n",
       "      <td>France</td>\n",
       "      <td>Female</td>\n",
       "      <td>39</td>\n",
       "      <td>1</td>\n",
       "      <td>0.00</td>\n",
       "      <td>2</td>\n",
       "      <td>0</td>\n",
       "      <td>0</td>\n",
       "      <td>93826.63</td>\n",
       "      <td>0</td>\n",
       "    </tr>\n",
       "    <tr>\n",
       "      <th>4</th>\n",
       "      <td>5</td>\n",
       "      <td>15737888</td>\n",
       "      <td>Mitchell</td>\n",
       "      <td>850</td>\n",
       "      <td>Spain</td>\n",
       "      <td>Female</td>\n",
       "      <td>43</td>\n",
       "      <td>2</td>\n",
       "      <td>125510.82</td>\n",
       "      <td>1</td>\n",
       "      <td>1</td>\n",
       "      <td>1</td>\n",
       "      <td>79084.10</td>\n",
       "      <td>0</td>\n",
       "    </tr>\n",
       "  </tbody>\n",
       "</table>\n",
       "</div>"
      ],
      "text/plain": [
       "   RowNumber  CustomerId   Surname  CreditScore Geography  Gender  Age  \\\n",
       "0          1    15634602  Hargrave          619    France  Female   42   \n",
       "1          2    15647311      Hill          608     Spain  Female   41   \n",
       "2          3    15619304      Onio          502    France  Female   42   \n",
       "3          4    15701354      Boni          699    France  Female   39   \n",
       "4          5    15737888  Mitchell          850     Spain  Female   43   \n",
       "\n",
       "   Tenure    Balance  NumOfProducts  HasCrCard  IsActiveMember  \\\n",
       "0       2       0.00              1          1               1   \n",
       "1       1   83807.86              1          0               1   \n",
       "2       8  159660.80              3          1               0   \n",
       "3       1       0.00              2          0               0   \n",
       "4       2  125510.82              1          1               1   \n",
       "\n",
       "   EstimatedSalary  Exited  \n",
       "0        101348.88       1  \n",
       "1        112542.58       0  \n",
       "2        113931.57       1  \n",
       "3         93826.63       0  \n",
       "4         79084.10       0  "
      ]
     },
     "execution_count": 87,
     "metadata": {},
     "output_type": "execute_result"
    }
   ],
   "source": [
    "df.head()"
   ]
  },
  {
   "cell_type": "code",
   "execution_count": 88,
   "metadata": {},
   "outputs": [
    {
     "data": {
      "text/plain": [
       "(10000, 14)"
      ]
     },
     "execution_count": 88,
     "metadata": {},
     "output_type": "execute_result"
    }
   ],
   "source": [
    "df.shape"
   ]
  },
  {
   "cell_type": "code",
   "execution_count": 89,
   "metadata": {},
   "outputs": [
    {
     "name": "stdout",
     "output_type": "stream",
     "text": [
      "<class 'pandas.core.frame.DataFrame'>\n",
      "RangeIndex: 10000 entries, 0 to 9999\n",
      "Data columns (total 14 columns):\n",
      " #   Column           Non-Null Count  Dtype  \n",
      "---  ------           --------------  -----  \n",
      " 0   RowNumber        10000 non-null  int64  \n",
      " 1   CustomerId       10000 non-null  int64  \n",
      " 2   Surname          10000 non-null  object \n",
      " 3   CreditScore      10000 non-null  int64  \n",
      " 4   Geography        10000 non-null  object \n",
      " 5   Gender           10000 non-null  object \n",
      " 6   Age              10000 non-null  int64  \n",
      " 7   Tenure           10000 non-null  int64  \n",
      " 8   Balance          10000 non-null  float64\n",
      " 9   NumOfProducts    10000 non-null  int64  \n",
      " 10  HasCrCard        10000 non-null  int64  \n",
      " 11  IsActiveMember   10000 non-null  int64  \n",
      " 12  EstimatedSalary  10000 non-null  float64\n",
      " 13  Exited           10000 non-null  int64  \n",
      "dtypes: float64(2), int64(9), object(3)\n",
      "memory usage: 1.1+ MB\n"
     ]
    }
   ],
   "source": [
    "df.info()"
   ]
  },
  {
   "cell_type": "code",
   "execution_count": 90,
   "metadata": {},
   "outputs": [
    {
     "data": {
      "text/plain": [
       "0"
      ]
     },
     "execution_count": 90,
     "metadata": {},
     "output_type": "execute_result"
    }
   ],
   "source": [
    "df.duplicated().sum()"
   ]
  },
  {
   "cell_type": "code",
   "execution_count": 91,
   "metadata": {},
   "outputs": [
    {
     "data": {
      "text/plain": [
       "Exited\n",
       "0    7963\n",
       "1    2037\n",
       "Name: count, dtype: int64"
      ]
     },
     "execution_count": 91,
     "metadata": {},
     "output_type": "execute_result"
    }
   ],
   "source": [
    "df['Exited'].value_counts()"
   ]
  },
  {
   "cell_type": "code",
   "execution_count": 92,
   "metadata": {},
   "outputs": [
    {
     "data": {
      "text/plain": [
       "Geography\n",
       "France     5014\n",
       "Germany    2509\n",
       "Spain      2477\n",
       "Name: count, dtype: int64"
      ]
     },
     "execution_count": 92,
     "metadata": {},
     "output_type": "execute_result"
    }
   ],
   "source": [
    "df['Geography'].value_counts()"
   ]
  },
  {
   "cell_type": "code",
   "execution_count": 93,
   "metadata": {},
   "outputs": [
    {
     "data": {
      "text/plain": [
       "Gender\n",
       "Male      5457\n",
       "Female    4543\n",
       "Name: count, dtype: int64"
      ]
     },
     "execution_count": 93,
     "metadata": {},
     "output_type": "execute_result"
    }
   ],
   "source": [
    "df['Gender'].value_counts()"
   ]
  },
  {
   "cell_type": "code",
   "execution_count": 94,
   "metadata": {},
   "outputs": [
    {
     "data": {
      "text/plain": [
       "Index(['RowNumber', 'CustomerId', 'Surname', 'CreditScore', 'Geography',\n",
       "       'Gender', 'Age', 'Tenure', 'Balance', 'NumOfProducts', 'HasCrCard',\n",
       "       'IsActiveMember', 'EstimatedSalary', 'Exited'],\n",
       "      dtype='object')"
      ]
     },
     "execution_count": 94,
     "metadata": {},
     "output_type": "execute_result"
    }
   ],
   "source": [
    "df.columns"
   ]
  },
  {
   "cell_type": "code",
   "execution_count": 95,
   "metadata": {},
   "outputs": [],
   "source": [
    "df.drop(columns=[\"RowNumber\",'CustomerId','Surname'],inplace=True)"
   ]
  },
  {
   "cell_type": "code",
   "execution_count": 96,
   "metadata": {},
   "outputs": [
    {
     "data": {
      "text/html": [
       "<div>\n",
       "<style scoped>\n",
       "    .dataframe tbody tr th:only-of-type {\n",
       "        vertical-align: middle;\n",
       "    }\n",
       "\n",
       "    .dataframe tbody tr th {\n",
       "        vertical-align: top;\n",
       "    }\n",
       "\n",
       "    .dataframe thead th {\n",
       "        text-align: right;\n",
       "    }\n",
       "</style>\n",
       "<table border=\"1\" class=\"dataframe\">\n",
       "  <thead>\n",
       "    <tr style=\"text-align: right;\">\n",
       "      <th></th>\n",
       "      <th>CreditScore</th>\n",
       "      <th>Geography</th>\n",
       "      <th>Gender</th>\n",
       "      <th>Age</th>\n",
       "      <th>Tenure</th>\n",
       "      <th>Balance</th>\n",
       "      <th>NumOfProducts</th>\n",
       "      <th>HasCrCard</th>\n",
       "      <th>IsActiveMember</th>\n",
       "      <th>EstimatedSalary</th>\n",
       "      <th>Exited</th>\n",
       "    </tr>\n",
       "  </thead>\n",
       "  <tbody>\n",
       "    <tr>\n",
       "      <th>0</th>\n",
       "      <td>619</td>\n",
       "      <td>France</td>\n",
       "      <td>Female</td>\n",
       "      <td>42</td>\n",
       "      <td>2</td>\n",
       "      <td>0.00</td>\n",
       "      <td>1</td>\n",
       "      <td>1</td>\n",
       "      <td>1</td>\n",
       "      <td>101348.88</td>\n",
       "      <td>1</td>\n",
       "    </tr>\n",
       "    <tr>\n",
       "      <th>1</th>\n",
       "      <td>608</td>\n",
       "      <td>Spain</td>\n",
       "      <td>Female</td>\n",
       "      <td>41</td>\n",
       "      <td>1</td>\n",
       "      <td>83807.86</td>\n",
       "      <td>1</td>\n",
       "      <td>0</td>\n",
       "      <td>1</td>\n",
       "      <td>112542.58</td>\n",
       "      <td>0</td>\n",
       "    </tr>\n",
       "    <tr>\n",
       "      <th>2</th>\n",
       "      <td>502</td>\n",
       "      <td>France</td>\n",
       "      <td>Female</td>\n",
       "      <td>42</td>\n",
       "      <td>8</td>\n",
       "      <td>159660.80</td>\n",
       "      <td>3</td>\n",
       "      <td>1</td>\n",
       "      <td>0</td>\n",
       "      <td>113931.57</td>\n",
       "      <td>1</td>\n",
       "    </tr>\n",
       "    <tr>\n",
       "      <th>3</th>\n",
       "      <td>699</td>\n",
       "      <td>France</td>\n",
       "      <td>Female</td>\n",
       "      <td>39</td>\n",
       "      <td>1</td>\n",
       "      <td>0.00</td>\n",
       "      <td>2</td>\n",
       "      <td>0</td>\n",
       "      <td>0</td>\n",
       "      <td>93826.63</td>\n",
       "      <td>0</td>\n",
       "    </tr>\n",
       "    <tr>\n",
       "      <th>4</th>\n",
       "      <td>850</td>\n",
       "      <td>Spain</td>\n",
       "      <td>Female</td>\n",
       "      <td>43</td>\n",
       "      <td>2</td>\n",
       "      <td>125510.82</td>\n",
       "      <td>1</td>\n",
       "      <td>1</td>\n",
       "      <td>1</td>\n",
       "      <td>79084.10</td>\n",
       "      <td>0</td>\n",
       "    </tr>\n",
       "  </tbody>\n",
       "</table>\n",
       "</div>"
      ],
      "text/plain": [
       "   CreditScore Geography  Gender  Age  Tenure    Balance  NumOfProducts  \\\n",
       "0          619    France  Female   42       2       0.00              1   \n",
       "1          608     Spain  Female   41       1   83807.86              1   \n",
       "2          502    France  Female   42       8  159660.80              3   \n",
       "3          699    France  Female   39       1       0.00              2   \n",
       "4          850     Spain  Female   43       2  125510.82              1   \n",
       "\n",
       "   HasCrCard  IsActiveMember  EstimatedSalary  Exited  \n",
       "0          1               1        101348.88       1  \n",
       "1          0               1        112542.58       0  \n",
       "2          1               0        113931.57       1  \n",
       "3          0               0         93826.63       0  \n",
       "4          1               1         79084.10       0  "
      ]
     },
     "execution_count": 96,
     "metadata": {},
     "output_type": "execute_result"
    }
   ],
   "source": [
    "df.head()                  "
   ]
  },
  {
   "cell_type": "code",
   "execution_count": 97,
   "metadata": {},
   "outputs": [],
   "source": [
    "df = pd.get_dummies(df, columns=['Geography','Gender'], drop_first=True)"
   ]
  },
  {
   "cell_type": "code",
   "execution_count": 98,
   "metadata": {},
   "outputs": [
    {
     "name": "stdout",
     "output_type": "stream",
     "text": [
      "<class 'pandas.core.frame.DataFrame'>\n",
      "RangeIndex: 10000 entries, 0 to 9999\n",
      "Data columns (total 12 columns):\n",
      " #   Column             Non-Null Count  Dtype  \n",
      "---  ------             --------------  -----  \n",
      " 0   CreditScore        10000 non-null  int64  \n",
      " 1   Age                10000 non-null  int64  \n",
      " 2   Tenure             10000 non-null  int64  \n",
      " 3   Balance            10000 non-null  float64\n",
      " 4   NumOfProducts      10000 non-null  int64  \n",
      " 5   HasCrCard          10000 non-null  int64  \n",
      " 6   IsActiveMember     10000 non-null  int64  \n",
      " 7   EstimatedSalary    10000 non-null  float64\n",
      " 8   Exited             10000 non-null  int64  \n",
      " 9   Geography_Germany  10000 non-null  bool   \n",
      " 10  Geography_Spain    10000 non-null  bool   \n",
      " 11  Gender_Male        10000 non-null  bool   \n",
      "dtypes: bool(3), float64(2), int64(7)\n",
      "memory usage: 732.5 KB\n"
     ]
    }
   ],
   "source": [
    "df.info()"
   ]
  },
  {
   "cell_type": "code",
   "execution_count": 99,
   "metadata": {},
   "outputs": [],
   "source": [
    "train_df = df.sample(frac=0.8, random_state=1)\n",
    "test_df = df.drop(train_df.index)"
   ]
  },
  {
   "cell_type": "code",
   "execution_count": 100,
   "metadata": {},
   "outputs": [],
   "source": [
    "X_train_features = train_df.copy()\n",
    "X_test_features = test_df.copy()\n",
    "\n",
    "y_train = X_train_features.pop('Exited')\n",
    "y_test = X_test_features.pop('Exited')"
   ]
  },
  {
   "cell_type": "code",
   "execution_count": 101,
   "metadata": {},
   "outputs": [
    {
     "data": {
      "text/plain": [
       "(8000,)"
      ]
     },
     "execution_count": 101,
     "metadata": {},
     "output_type": "execute_result"
    }
   ],
   "source": [
    "y_train.shape"
   ]
  },
  {
   "cell_type": "code",
   "execution_count": 102,
   "metadata": {},
   "outputs": [],
   "source": [
    "from sklearn.preprocessing import StandardScaler"
   ]
  },
  {
   "cell_type": "code",
   "execution_count": 103,
   "metadata": {},
   "outputs": [],
   "source": [
    "scaler = StandardScaler()\n",
    "X_train_features = scaler.fit_transform(X_train_features)\n",
    "X_test_features = scaler.transform(X_test_features)"
   ]
  },
  {
   "cell_type": "code",
   "execution_count": 104,
   "metadata": {},
   "outputs": [
    {
     "data": {
      "text/plain": [
       "array([[-1.04951963,  0.78091929, -1.04812816, ..., -0.5821616 ,\n",
       "        -0.57735027,  0.91416872],\n",
       "       [ 0.29499903, -0.46584705, -0.70245371, ..., -0.5821616 ,\n",
       "        -0.57735027,  0.91416872],\n",
       "       [-1.24602621,  0.30139377, -1.04812816, ..., -0.5821616 ,\n",
       "        -0.57735027, -1.09388997],\n",
       "       ...,\n",
       "       [-1.48390259,  2.41130604, -1.04812816, ..., -0.5821616 ,\n",
       "        -0.57735027, -1.09388997],\n",
       "       [ 1.14308003,  0.68501419,  0.33456967, ...,  1.71773609,\n",
       "        -0.57735027,  0.91416872],\n",
       "       [ 1.24650455, -1.52080318, -1.04812816, ..., -0.5821616 ,\n",
       "        -0.57735027,  0.91416872]])"
      ]
     },
     "execution_count": 104,
     "metadata": {},
     "output_type": "execute_result"
    }
   ],
   "source": [
    "X_train_features"
   ]
  },
  {
   "cell_type": "code",
   "execution_count": 105,
   "metadata": {},
   "outputs": [],
   "source": [
    "import tensorflow\n",
    "from tensorflow import keras\n",
    "from tensorflow.keras import Sequential\n",
    "from tensorflow.keras.layers import Dense"
   ]
  },
  {
   "cell_type": "code",
   "execution_count": 106,
   "metadata": {},
   "outputs": [],
   "source": [
    "model = Sequential()\n",
    "model.add(Dense(11,activation='relu',input_dim=11))\n",
    "model.add(Dense(11,activation='relu'))\n",
    "model.add(Dense(1, activation='sigmoid'))"
   ]
  },
  {
   "cell_type": "code",
   "execution_count": 107,
   "metadata": {},
   "outputs": [
    {
     "name": "stdout",
     "output_type": "stream",
     "text": [
      "Model: \"sequential_5\"\n",
      "_________________________________________________________________\n",
      " Layer (type)                Output Shape              Param #   \n",
      "=================================================================\n",
      " dense_13 (Dense)            (None, 11)                132       \n",
      "                                                                 \n",
      " dense_14 (Dense)            (None, 11)                132       \n",
      "                                                                 \n",
      " dense_15 (Dense)            (None, 1)                 12        \n",
      "                                                                 \n",
      "=================================================================\n",
      "Total params: 276\n",
      "Trainable params: 276\n",
      "Non-trainable params: 0\n",
      "_________________________________________________________________\n"
     ]
    }
   ],
   "source": [
    "model.summary()"
   ]
  },
  {
   "cell_type": "code",
   "execution_count": 108,
   "metadata": {},
   "outputs": [],
   "source": [
    "model.compile(loss='binary_crossentropy', optimizer=\"Adam\", metrics=['accuracy'])"
   ]
  },
  {
   "cell_type": "code",
   "execution_count": 109,
   "metadata": {},
   "outputs": [
    {
     "name": "stdout",
     "output_type": "stream",
     "text": [
      "Epoch 1/100\n",
      "200/200 [==============================] - 2s 7ms/step - loss: 0.5434 - accuracy: 0.7644 - val_loss: 0.4817 - val_accuracy: 0.8044\n",
      "Epoch 2/100\n",
      "200/200 [==============================] - 1s 5ms/step - loss: 0.4536 - accuracy: 0.8084 - val_loss: 0.4436 - val_accuracy: 0.8044\n",
      "Epoch 3/100\n",
      "200/200 [==============================] - 1s 5ms/step - loss: 0.4288 - accuracy: 0.8242 - val_loss: 0.4301 - val_accuracy: 0.8062\n",
      "Epoch 4/100\n",
      "200/200 [==============================] - 1s 5ms/step - loss: 0.4177 - accuracy: 0.8327 - val_loss: 0.4227 - val_accuracy: 0.8144\n",
      "Epoch 5/100\n",
      "200/200 [==============================] - 1s 5ms/step - loss: 0.4094 - accuracy: 0.8364 - val_loss: 0.4175 - val_accuracy: 0.8181\n",
      "Epoch 6/100\n",
      "200/200 [==============================] - 2s 10ms/step - loss: 0.4016 - accuracy: 0.8395 - val_loss: 0.4115 - val_accuracy: 0.8231\n",
      "Epoch 7/100\n",
      "200/200 [==============================] - 1s 7ms/step - loss: 0.3939 - accuracy: 0.8431 - val_loss: 0.4004 - val_accuracy: 0.8300\n",
      "Epoch 8/100\n",
      "200/200 [==============================] - 1s 6ms/step - loss: 0.3853 - accuracy: 0.8480 - val_loss: 0.3890 - val_accuracy: 0.8331\n",
      "Epoch 9/100\n",
      "200/200 [==============================] - 1s 6ms/step - loss: 0.3743 - accuracy: 0.8525 - val_loss: 0.3774 - val_accuracy: 0.8400\n",
      "Epoch 10/100\n",
      "200/200 [==============================] - 1s 5ms/step - loss: 0.3645 - accuracy: 0.8567 - val_loss: 0.3705 - val_accuracy: 0.8450\n",
      "Epoch 11/100\n",
      "200/200 [==============================] - 1s 6ms/step - loss: 0.3574 - accuracy: 0.8603 - val_loss: 0.3663 - val_accuracy: 0.8469\n",
      "Epoch 12/100\n",
      "200/200 [==============================] - 1s 6ms/step - loss: 0.3521 - accuracy: 0.8627 - val_loss: 0.3649 - val_accuracy: 0.8469\n",
      "Epoch 13/100\n",
      "200/200 [==============================] - 1s 6ms/step - loss: 0.3483 - accuracy: 0.8628 - val_loss: 0.3614 - val_accuracy: 0.8481\n",
      "Epoch 14/100\n",
      "200/200 [==============================] - 1s 7ms/step - loss: 0.3451 - accuracy: 0.8630 - val_loss: 0.3622 - val_accuracy: 0.8487\n",
      "Epoch 15/100\n",
      "200/200 [==============================] - 1s 7ms/step - loss: 0.3435 - accuracy: 0.8634 - val_loss: 0.3604 - val_accuracy: 0.8481\n",
      "Epoch 16/100\n",
      "200/200 [==============================] - 2s 8ms/step - loss: 0.3418 - accuracy: 0.8642 - val_loss: 0.3621 - val_accuracy: 0.8462\n",
      "Epoch 17/100\n",
      "200/200 [==============================] - 1s 6ms/step - loss: 0.3405 - accuracy: 0.8633 - val_loss: 0.3605 - val_accuracy: 0.8494\n",
      "Epoch 18/100\n",
      "200/200 [==============================] - 1s 6ms/step - loss: 0.3399 - accuracy: 0.8634 - val_loss: 0.3614 - val_accuracy: 0.8500\n",
      "Epoch 19/100\n",
      "200/200 [==============================] - 1s 6ms/step - loss: 0.3389 - accuracy: 0.8623 - val_loss: 0.3605 - val_accuracy: 0.8500\n",
      "Epoch 20/100\n",
      "200/200 [==============================] - 1s 6ms/step - loss: 0.3382 - accuracy: 0.8648 - val_loss: 0.3592 - val_accuracy: 0.8494\n",
      "Epoch 21/100\n",
      "200/200 [==============================] - 2s 8ms/step - loss: 0.3375 - accuracy: 0.8656 - val_loss: 0.3616 - val_accuracy: 0.8500\n",
      "Epoch 22/100\n",
      "200/200 [==============================] - 2s 9ms/step - loss: 0.3370 - accuracy: 0.8662 - val_loss: 0.3610 - val_accuracy: 0.8512\n",
      "Epoch 23/100\n",
      "200/200 [==============================] - 2s 8ms/step - loss: 0.3361 - accuracy: 0.8647 - val_loss: 0.3616 - val_accuracy: 0.8500\n",
      "Epoch 24/100\n",
      "200/200 [==============================] - 2s 8ms/step - loss: 0.3355 - accuracy: 0.8667 - val_loss: 0.3604 - val_accuracy: 0.8475\n",
      "Epoch 25/100\n",
      "200/200 [==============================] - 2s 8ms/step - loss: 0.3354 - accuracy: 0.8662 - val_loss: 0.3603 - val_accuracy: 0.8481\n",
      "Epoch 26/100\n",
      "200/200 [==============================] - 1s 7ms/step - loss: 0.3349 - accuracy: 0.8662 - val_loss: 0.3613 - val_accuracy: 0.8512\n",
      "Epoch 27/100\n",
      "200/200 [==============================] - 1s 7ms/step - loss: 0.3346 - accuracy: 0.8670 - val_loss: 0.3609 - val_accuracy: 0.8512\n",
      "Epoch 28/100\n",
      "200/200 [==============================] - 2s 8ms/step - loss: 0.3344 - accuracy: 0.8664 - val_loss: 0.3611 - val_accuracy: 0.8500\n",
      "Epoch 29/100\n",
      "200/200 [==============================] - 1s 7ms/step - loss: 0.3340 - accuracy: 0.8659 - val_loss: 0.3625 - val_accuracy: 0.8519\n",
      "Epoch 30/100\n",
      "200/200 [==============================] - 2s 8ms/step - loss: 0.3338 - accuracy: 0.8666 - val_loss: 0.3608 - val_accuracy: 0.8519\n",
      "Epoch 31/100\n",
      "200/200 [==============================] - 1s 5ms/step - loss: 0.3330 - accuracy: 0.8664 - val_loss: 0.3614 - val_accuracy: 0.8481\n",
      "Epoch 32/100\n",
      "200/200 [==============================] - 1s 5ms/step - loss: 0.3328 - accuracy: 0.8669 - val_loss: 0.3628 - val_accuracy: 0.8506\n",
      "Epoch 33/100\n",
      "200/200 [==============================] - 1s 5ms/step - loss: 0.3324 - accuracy: 0.8658 - val_loss: 0.3632 - val_accuracy: 0.8525\n",
      "Epoch 34/100\n",
      "200/200 [==============================] - 1s 5ms/step - loss: 0.3328 - accuracy: 0.8675 - val_loss: 0.3614 - val_accuracy: 0.8506\n",
      "Epoch 35/100\n",
      "200/200 [==============================] - 1s 5ms/step - loss: 0.3321 - accuracy: 0.8658 - val_loss: 0.3613 - val_accuracy: 0.8512\n",
      "Epoch 36/100\n",
      "200/200 [==============================] - 1s 5ms/step - loss: 0.3323 - accuracy: 0.8672 - val_loss: 0.3617 - val_accuracy: 0.8475\n",
      "Epoch 37/100\n",
      "200/200 [==============================] - 1s 5ms/step - loss: 0.3320 - accuracy: 0.8670 - val_loss: 0.3623 - val_accuracy: 0.8487\n",
      "Epoch 38/100\n",
      "200/200 [==============================] - 1s 5ms/step - loss: 0.3317 - accuracy: 0.8666 - val_loss: 0.3613 - val_accuracy: 0.8506\n",
      "Epoch 39/100\n",
      "200/200 [==============================] - 1s 6ms/step - loss: 0.3316 - accuracy: 0.8667 - val_loss: 0.3614 - val_accuracy: 0.8481\n",
      "Epoch 40/100\n",
      "200/200 [==============================] - 1s 6ms/step - loss: 0.3312 - accuracy: 0.8670 - val_loss: 0.3621 - val_accuracy: 0.8469\n",
      "Epoch 41/100\n",
      "200/200 [==============================] - 1s 6ms/step - loss: 0.3309 - accuracy: 0.8691 - val_loss: 0.3636 - val_accuracy: 0.8519\n",
      "Epoch 42/100\n",
      "200/200 [==============================] - 1s 6ms/step - loss: 0.3308 - accuracy: 0.8669 - val_loss: 0.3622 - val_accuracy: 0.8487\n",
      "Epoch 43/100\n",
      "200/200 [==============================] - 1s 6ms/step - loss: 0.3302 - accuracy: 0.8678 - val_loss: 0.3665 - val_accuracy: 0.8506\n",
      "Epoch 44/100\n",
      "200/200 [==============================] - 1s 6ms/step - loss: 0.3311 - accuracy: 0.8670 - val_loss: 0.3619 - val_accuracy: 0.8525\n",
      "Epoch 45/100\n",
      "200/200 [==============================] - 1s 7ms/step - loss: 0.3300 - accuracy: 0.8680 - val_loss: 0.3609 - val_accuracy: 0.8469\n",
      "Epoch 46/100\n",
      "200/200 [==============================] - 1s 6ms/step - loss: 0.3304 - accuracy: 0.8677 - val_loss: 0.3608 - val_accuracy: 0.8519\n",
      "Epoch 47/100\n",
      "200/200 [==============================] - 1s 5ms/step - loss: 0.3300 - accuracy: 0.8681 - val_loss: 0.3648 - val_accuracy: 0.8537\n",
      "Epoch 48/100\n",
      "200/200 [==============================] - 1s 5ms/step - loss: 0.3299 - accuracy: 0.8684 - val_loss: 0.3629 - val_accuracy: 0.8506\n",
      "Epoch 49/100\n",
      "200/200 [==============================] - 1s 6ms/step - loss: 0.3294 - accuracy: 0.8694 - val_loss: 0.3659 - val_accuracy: 0.8487\n",
      "Epoch 50/100\n",
      "200/200 [==============================] - 1s 6ms/step - loss: 0.3295 - accuracy: 0.8672 - val_loss: 0.3628 - val_accuracy: 0.8494\n",
      "Epoch 51/100\n",
      "200/200 [==============================] - 1s 5ms/step - loss: 0.3295 - accuracy: 0.8675 - val_loss: 0.3620 - val_accuracy: 0.8481\n",
      "Epoch 52/100\n",
      "200/200 [==============================] - 1s 5ms/step - loss: 0.3292 - accuracy: 0.8677 - val_loss: 0.3614 - val_accuracy: 0.8494\n",
      "Epoch 53/100\n",
      "200/200 [==============================] - 1s 6ms/step - loss: 0.3296 - accuracy: 0.8675 - val_loss: 0.3623 - val_accuracy: 0.8469\n",
      "Epoch 54/100\n",
      "200/200 [==============================] - 1s 5ms/step - loss: 0.3286 - accuracy: 0.8684 - val_loss: 0.3625 - val_accuracy: 0.8494\n",
      "Epoch 55/100\n",
      "200/200 [==============================] - 1s 7ms/step - loss: 0.3288 - accuracy: 0.8673 - val_loss: 0.3625 - val_accuracy: 0.8494\n",
      "Epoch 56/100\n",
      "200/200 [==============================] - 1s 5ms/step - loss: 0.3286 - accuracy: 0.8683 - val_loss: 0.3621 - val_accuracy: 0.8475\n",
      "Epoch 57/100\n",
      "200/200 [==============================] - 1s 6ms/step - loss: 0.3282 - accuracy: 0.8672 - val_loss: 0.3654 - val_accuracy: 0.8487\n",
      "Epoch 58/100\n",
      "200/200 [==============================] - 1s 5ms/step - loss: 0.3287 - accuracy: 0.8664 - val_loss: 0.3618 - val_accuracy: 0.8487\n",
      "Epoch 59/100\n",
      "200/200 [==============================] - 1s 6ms/step - loss: 0.3283 - accuracy: 0.8673 - val_loss: 0.3644 - val_accuracy: 0.8512\n",
      "Epoch 60/100\n",
      "200/200 [==============================] - 1s 6ms/step - loss: 0.3282 - accuracy: 0.8684 - val_loss: 0.3624 - val_accuracy: 0.8506\n",
      "Epoch 61/100\n",
      "200/200 [==============================] - 1s 5ms/step - loss: 0.3273 - accuracy: 0.8695 - val_loss: 0.3648 - val_accuracy: 0.8512\n",
      "Epoch 62/100\n",
      "200/200 [==============================] - 1s 5ms/step - loss: 0.3280 - accuracy: 0.8677 - val_loss: 0.3642 - val_accuracy: 0.8506\n",
      "Epoch 63/100\n",
      "200/200 [==============================] - 1s 5ms/step - loss: 0.3278 - accuracy: 0.8700 - val_loss: 0.3637 - val_accuracy: 0.8512\n",
      "Epoch 64/100\n",
      "200/200 [==============================] - 1s 6ms/step - loss: 0.3270 - accuracy: 0.8695 - val_loss: 0.3636 - val_accuracy: 0.8481\n",
      "Epoch 65/100\n",
      "200/200 [==============================] - 1s 6ms/step - loss: 0.3271 - accuracy: 0.8664 - val_loss: 0.3631 - val_accuracy: 0.8519\n",
      "Epoch 66/100\n",
      "200/200 [==============================] - 1s 5ms/step - loss: 0.3267 - accuracy: 0.8681 - val_loss: 0.3634 - val_accuracy: 0.8506\n",
      "Epoch 67/100\n",
      "200/200 [==============================] - 1s 5ms/step - loss: 0.3275 - accuracy: 0.8673 - val_loss: 0.3646 - val_accuracy: 0.8494\n",
      "Epoch 68/100\n",
      "200/200 [==============================] - 1s 5ms/step - loss: 0.3269 - accuracy: 0.8677 - val_loss: 0.3636 - val_accuracy: 0.8512\n",
      "Epoch 69/100\n",
      "200/200 [==============================] - 1s 5ms/step - loss: 0.3267 - accuracy: 0.8669 - val_loss: 0.3647 - val_accuracy: 0.8512\n",
      "Epoch 70/100\n",
      "200/200 [==============================] - 1s 5ms/step - loss: 0.3269 - accuracy: 0.8683 - val_loss: 0.3655 - val_accuracy: 0.8525\n",
      "Epoch 71/100\n",
      "200/200 [==============================] - 1s 6ms/step - loss: 0.3260 - accuracy: 0.8698 - val_loss: 0.3635 - val_accuracy: 0.8506\n",
      "Epoch 72/100\n",
      "200/200 [==============================] - 1s 5ms/step - loss: 0.3266 - accuracy: 0.8683 - val_loss: 0.3642 - val_accuracy: 0.8525\n",
      "Epoch 73/100\n",
      "200/200 [==============================] - 1s 6ms/step - loss: 0.3264 - accuracy: 0.8687 - val_loss: 0.3648 - val_accuracy: 0.8506\n",
      "Epoch 74/100\n",
      "200/200 [==============================] - 1s 5ms/step - loss: 0.3255 - accuracy: 0.8683 - val_loss: 0.3660 - val_accuracy: 0.8506\n",
      "Epoch 75/100\n",
      "200/200 [==============================] - 1s 6ms/step - loss: 0.3262 - accuracy: 0.8694 - val_loss: 0.3644 - val_accuracy: 0.8494\n",
      "Epoch 76/100\n",
      "200/200 [==============================] - 1s 6ms/step - loss: 0.3254 - accuracy: 0.8673 - val_loss: 0.3650 - val_accuracy: 0.8506\n",
      "Epoch 77/100\n",
      "200/200 [==============================] - 1s 6ms/step - loss: 0.3256 - accuracy: 0.8695 - val_loss: 0.3644 - val_accuracy: 0.8506\n",
      "Epoch 78/100\n",
      "200/200 [==============================] - 1s 7ms/step - loss: 0.3255 - accuracy: 0.8680 - val_loss: 0.3677 - val_accuracy: 0.8494\n",
      "Epoch 79/100\n",
      "200/200 [==============================] - 1s 6ms/step - loss: 0.3249 - accuracy: 0.8684 - val_loss: 0.3642 - val_accuracy: 0.8494\n",
      "Epoch 80/100\n",
      "200/200 [==============================] - 1s 6ms/step - loss: 0.3248 - accuracy: 0.8705 - val_loss: 0.3663 - val_accuracy: 0.8487\n",
      "Epoch 81/100\n",
      "200/200 [==============================] - 1s 7ms/step - loss: 0.3247 - accuracy: 0.8692 - val_loss: 0.3655 - val_accuracy: 0.8500\n",
      "Epoch 82/100\n",
      "200/200 [==============================] - 1s 6ms/step - loss: 0.3252 - accuracy: 0.8689 - val_loss: 0.3687 - val_accuracy: 0.8475\n",
      "Epoch 83/100\n",
      "200/200 [==============================] - 1s 7ms/step - loss: 0.3252 - accuracy: 0.8692 - val_loss: 0.3672 - val_accuracy: 0.8481\n",
      "Epoch 84/100\n",
      "200/200 [==============================] - 1s 6ms/step - loss: 0.3245 - accuracy: 0.8681 - val_loss: 0.3663 - val_accuracy: 0.8481\n",
      "Epoch 85/100\n",
      "200/200 [==============================] - 1s 6ms/step - loss: 0.3242 - accuracy: 0.8683 - val_loss: 0.3666 - val_accuracy: 0.8506\n",
      "Epoch 86/100\n",
      "200/200 [==============================] - 1s 6ms/step - loss: 0.3251 - accuracy: 0.8706 - val_loss: 0.3664 - val_accuracy: 0.8475\n",
      "Epoch 87/100\n",
      "200/200 [==============================] - 1s 5ms/step - loss: 0.3242 - accuracy: 0.8709 - val_loss: 0.3682 - val_accuracy: 0.8487\n",
      "Epoch 88/100\n",
      "200/200 [==============================] - 1s 5ms/step - loss: 0.3241 - accuracy: 0.8700 - val_loss: 0.3673 - val_accuracy: 0.8494\n",
      "Epoch 89/100\n",
      "200/200 [==============================] - 1s 6ms/step - loss: 0.3248 - accuracy: 0.8681 - val_loss: 0.3670 - val_accuracy: 0.8506\n",
      "Epoch 90/100\n",
      "200/200 [==============================] - 1s 6ms/step - loss: 0.3240 - accuracy: 0.8698 - val_loss: 0.3706 - val_accuracy: 0.8456\n",
      "Epoch 91/100\n",
      "200/200 [==============================] - 1s 7ms/step - loss: 0.3236 - accuracy: 0.8686 - val_loss: 0.3698 - val_accuracy: 0.8462\n",
      "Epoch 92/100\n",
      "200/200 [==============================] - 1s 6ms/step - loss: 0.3240 - accuracy: 0.8698 - val_loss: 0.3719 - val_accuracy: 0.8456\n",
      "Epoch 93/100\n",
      "200/200 [==============================] - 1s 5ms/step - loss: 0.3231 - accuracy: 0.8695 - val_loss: 0.3700 - val_accuracy: 0.8475\n",
      "Epoch 94/100\n",
      "200/200 [==============================] - 1s 6ms/step - loss: 0.3234 - accuracy: 0.8670 - val_loss: 0.3702 - val_accuracy: 0.8487\n",
      "Epoch 95/100\n",
      "200/200 [==============================] - 1s 5ms/step - loss: 0.3236 - accuracy: 0.8692 - val_loss: 0.3697 - val_accuracy: 0.8469\n",
      "Epoch 96/100\n",
      "200/200 [==============================] - 1s 6ms/step - loss: 0.3236 - accuracy: 0.8702 - val_loss: 0.3701 - val_accuracy: 0.8494\n",
      "Epoch 97/100\n",
      "200/200 [==============================] - 1s 6ms/step - loss: 0.3228 - accuracy: 0.8702 - val_loss: 0.3722 - val_accuracy: 0.8469\n",
      "Epoch 98/100\n",
      "200/200 [==============================] - 1s 6ms/step - loss: 0.3237 - accuracy: 0.8681 - val_loss: 0.3702 - val_accuracy: 0.8487\n",
      "Epoch 99/100\n",
      "200/200 [==============================] - 1s 6ms/step - loss: 0.3226 - accuracy: 0.8695 - val_loss: 0.3697 - val_accuracy: 0.8487\n",
      "Epoch 100/100\n",
      "200/200 [==============================] - 1s 6ms/step - loss: 0.3229 - accuracy: 0.8691 - val_loss: 0.3708 - val_accuracy: 0.8462\n"
     ]
    }
   ],
   "source": [
    "history = model.fit(X_train_features, y_train, epochs=100,validation_split=0.2)"
   ]
  },
  {
   "cell_type": "code",
   "execution_count": 81,
   "metadata": {},
   "outputs": [
    {
     "data": {
      "text/plain": [
       "[array([[-0.03210757, -0.10511161, -0.09626953,  0.10739681, -0.0992837 ,\n",
       "         -0.34635726, -0.07041735,  0.13461646, -0.13926132,  0.02203275,\n",
       "         -0.3295648 ],\n",
       "        [ 0.54417586, -0.60935926,  0.8585324 , -0.05833811,  0.7814828 ,\n",
       "          0.09262023, -0.11082016,  0.05910654, -0.802474  ,  0.06842716,\n",
       "         -0.08836348],\n",
       "        [-0.04102   , -0.35737994,  0.00764638, -0.08788771, -0.14210674,\n",
       "          0.19442682,  0.06608521,  0.25913718,  0.3392647 , -0.12245607,\n",
       "          0.289021  ],\n",
       "        [-0.2903408 , -0.27009085, -0.05505567,  0.17610261, -0.5541352 ,\n",
       "          0.36567622,  1.4158463 ,  0.5584321 , -0.1708933 ,  0.02362663,\n",
       "         -0.79632664],\n",
       "        [-0.13143529,  0.26727188,  0.9906513 ,  0.872349  , -0.9430417 ,\n",
       "          1.3747163 , -0.18638492,  0.2509796 , -0.33424336,  0.49812838,\n",
       "          0.01592416],\n",
       "        [ 0.11088271, -0.38509893, -0.07105634,  0.13271432,  0.06937484,\n",
       "         -0.00293748,  0.13009268,  0.43356955,  0.28088507,  0.3536109 ,\n",
       "         -0.3451935 ],\n",
       "        [ 1.1488667 , -0.659771  ,  0.20426957,  0.42358717, -0.12575279,\n",
       "         -0.12902534,  0.1992476 ,  0.5768302 ,  0.0840652 ,  0.24122074,\n",
       "          0.35869148],\n",
       "        [ 0.22643997,  0.1576046 , -0.0237803 ,  0.01517215,  0.17365406,\n",
       "          0.04053377,  0.03543171,  0.10619437, -0.07924291,  0.3275562 ,\n",
       "         -0.7629823 ],\n",
       "        [ 0.62323785,  0.20279862,  0.03598041, -0.41522673,  0.39592445,\n",
       "          0.38633823,  0.5862436 , -0.61222535,  0.2726068 ,  0.42694634,\n",
       "          0.06804684],\n",
       "        [ 0.29629073, -0.50822926,  0.03139613,  0.42625332,  0.11451175,\n",
       "         -0.16769034, -0.19289605, -0.7117813 ,  0.5642063 , -0.36234048,\n",
       "         -0.12274457],\n",
       "        [-0.2995285 , -0.09883962, -0.00978379,  0.33002424, -0.11526048,\n",
       "         -0.34488338,  0.18534295,  0.33040786, -0.17453215,  0.18784074,\n",
       "          0.13645408]], dtype=float32),\n",
       " array([-0.3521176 ,  0.43320322, -0.61934996,  0.48699558,  0.07724723,\n",
       "        -0.02478507, -0.61166525,  0.37408045,  0.9840842 ,  0.4198248 ,\n",
       "         0.58591044], dtype=float32)]"
      ]
     },
     "execution_count": 81,
     "metadata": {},
     "output_type": "execute_result"
    }
   ],
   "source": [
    "model.layers[0].get_weights()"
   ]
  },
  {
   "cell_type": "code",
   "execution_count": 82,
   "metadata": {},
   "outputs": [
    {
     "name": "stdout",
     "output_type": "stream",
     "text": [
      "63/63 [==============================] - 0s 3ms/step\n"
     ]
    }
   ],
   "source": [
    "y_log = model.predict(X_test_features)"
   ]
  },
  {
   "cell_type": "code",
   "execution_count": 83,
   "metadata": {},
   "outputs": [],
   "source": [
    "y_pred = np.where(y_log > 0.5,1,0)"
   ]
  },
  {
   "cell_type": "code",
   "execution_count": 84,
   "metadata": {},
   "outputs": [
    {
     "data": {
      "text/plain": [
       "0.866"
      ]
     },
     "execution_count": 84,
     "metadata": {},
     "output_type": "execute_result"
    }
   ],
   "source": [
    "from sklearn.metrics import accuracy_score\n",
    "accuracy_score(y_test, y_pred)"
   ]
  },
  {
   "cell_type": "code",
   "execution_count": 110,
   "metadata": {},
   "outputs": [],
   "source": [
    "import matplotlib.pyplot as plt"
   ]
  },
  {
   "cell_type": "code",
   "execution_count": 112,
   "metadata": {},
   "outputs": [
    {
     "data": {
      "text/plain": [
       "[<matplotlib.lines.Line2D at 0x208f6ce6070>]"
      ]
     },
     "execution_count": 112,
     "metadata": {},
     "output_type": "execute_result"
    },
    {
     "data": {
      "image/png": "[encoded data removed]",
      "text/plain": [
       "<Figure size 640x480 with 1 Axes>"
      ]
     },
     "metadata": {},
     "output_type": "display_data"
    }
   ],
   "source": [
    "plt.plot(history.history['loss'])\n",
    "plt.plot(history.history['val_loss'])"
   ]
  },
  {
   "cell_type": "code",
   "execution_count": 113,
   "metadata": {},
   "outputs": [
    {
     "data": {
      "text/plain": [
       "[<matplotlib.lines.Line2D at 0x208f735fa30>]"
      ]
     },
     "execution_count": 113,
     "metadata": {},
     "output_type": "execute_result"
    },
    {
     "data": {
      "image/png": "[encoded data removed]",
      "text/plain": [
       "<Figure size 640x480 with 1 Axes>"
      ]
     },
     "metadata": {},
     "output_type": "display_data"
    }
   ],
   "source": [
    "plt.plot(history.history['accuracy'])\n",
    "plt.plot(history.history['val_accuracy'])"
   ]
  }
 ],
 "metadata": {
  "kernelspec": {
   "display_name": "Python 3",
   "language": "python",
   "name": "python3"
  },
  "language_info": {
   "codemirror_mode": {
    "name": "ipython",
    "version": 3
   },
   "file_extension": ".py",
   "mimetype": "text/x-python",
   "name": "python",
   "nbconvert_exporter": "python",
   "pygments_lexer": "ipython3",
   "version": "3.9.18"
  }
 },
 "nbformat": 4,
 "nbformat_minor": 2
}
