{
 "cells": [
  {
   "cell_type": "code",
   "execution_count": 58,
   "metadata": {},
   "outputs": [],
   "source": [
    "import pandas as pd\n",
    "import numpy as np\n",
    "import matplotlib.pyplot as plt\n",
    "import tensorflow as tf\n",
    "from tensorflow import keras\n",
    "from tensorflow.keras import layers, models\n",
    "from tensorflow.keras.layers import Dense, Flatten, Conv2D, MaxPooling2D\n",
    "from tensorflow.keras.preprocessing.image import ImageDataGenerator"
   ]
  },
  {
   "cell_type": "code",
   "execution_count": 59,
   "metadata": {},
   "outputs": [],
   "source": [
    "train_dir = r'C:\\ai_learning_git_repos\\deep-learning\\CNN\\image_classification\\train'\n",
    "test_dir = r'C:\\ai_learning_git_repos\\deep-learning\\CNN\\image_classification\\test'\n",
    "validation_dir = r'C:\\ai_learning_git_repos\\deep-learning\\CNN\\image_classification\\validation'"
   ]
  },
  {
   "cell_type": "code",
   "execution_count": 60,
   "metadata": {},
   "outputs": [],
   "source": [
    "train_datagen = ImageDataGenerator(rescale=1./255)\n",
    "test_dategen = ImageDataGenerator(rescale=1./255)"
   ]
  },
  {
   "cell_type": "code",
   "execution_count": 61,
   "metadata": {},
   "outputs": [
    {
     "name": "stdout",
     "output_type": "stream",
     "text": [
      "Found 2000 images belonging to 2 classes.\n",
      "Found 1000 images belonging to 2 classes.\n",
      "Found 1000 images belonging to 2 classes.\n"
     ]
    }
   ],
   "source": [
    "train_generator = train_datagen.flow_from_directory(\n",
    "    train_dir,\n",
    "    target_size=(150,150),\n",
    "    batch_size=20,\n",
    "    class_mode='binary'\n",
    ")\n",
    "\n",
    "test_generator = test_dategen.flow_from_directory(\n",
    "    test_dir,\n",
    "    target_size=(150,150),\n",
    "    batch_size=20,\n",
    "    class_mode='binary'\n",
    ")\n",
    "\n",
    "validation_generator = test_dategen.flow_from_directory(\n",
    "    validation_dir,\n",
    "    target_size=(150,150),\n",
    "    batch_size=20,\n",
    "    class_mode='binary'\n",
    ")"
   ]
  },
  {
   "cell_type": "code",
   "execution_count": 62,
   "metadata": {},
   "outputs": [],
   "source": [
    "model = models.Sequential()\n",
    "\n",
    "model.add(Conv2D(32, (3,3), activation='relu',input_shape=(150,150,3)))\n",
    "model.add(MaxPooling2D(2,2))\n",
    "\n",
    "model.add(Conv2D(64,(3,3), activation='relu'))\n",
    "model.add(MaxPooling2D(2,2))\n",
    "\n",
    "model.add(Conv2D(128,(3,3), activation='relu'))\n",
    "model.add(MaxPooling2D(2,2))\n",
    "\n",
    "model.add(Conv2D(128,(3,3), activation='relu'))\n",
    "model.add(MaxPooling2D(2,2))\n",
    "\n",
    "model.add(Flatten())\n",
    "\n",
    "model.add(Dense(512, activation='relu'))\n",
    "model.add(Dense(1, activation='sigmoid'))"
   ]
  },
  {
   "cell_type": "code",
   "execution_count": 63,
   "metadata": {},
   "outputs": [
    {
     "name": "stdout",
     "output_type": "stream",
     "text": [
      "Model: \"sequential_3\"\n",
      "_________________________________________________________________\n",
      " Layer (type)                Output Shape              Param #   \n",
      "=================================================================\n",
      " conv2d_8 (Conv2D)           (None, 148, 148, 32)      896       \n",
      "                                                                 \n",
      " max_pooling2d_8 (MaxPooling  (None, 74, 74, 32)       0         \n",
      " 2D)                                                             \n",
      "                                                                 \n",
      " conv2d_9 (Conv2D)           (None, 72, 72, 64)        18496     \n",
      "                                                                 \n",
      " max_pooling2d_9 (MaxPooling  (None, 36, 36, 64)       0         \n",
      " 2D)                                                             \n",
      "                                                                 \n",
      " conv2d_10 (Conv2D)          (None, 34, 34, 128)       73856     \n",
      "                                                                 \n",
      " max_pooling2d_10 (MaxPoolin  (None, 17, 17, 128)      0         \n",
      " g2D)                                                            \n",
      "                                                                 \n",
      " conv2d_11 (Conv2D)          (None, 15, 15, 128)       147584    \n",
      "                                                                 \n",
      " max_pooling2d_11 (MaxPoolin  (None, 7, 7, 128)        0         \n",
      " g2D)                                                            \n",
      "                                                                 \n",
      " flatten_2 (Flatten)         (None, 6272)              0         \n",
      "                                                                 \n",
      " dense_4 (Dense)             (None, 512)               3211776   \n",
      "                                                                 \n",
      " dense_5 (Dense)             (None, 1)                 513       \n",
      "                                                                 \n",
      "=================================================================\n",
      "Total params: 3,453,121\n",
      "Trainable params: 3,453,121\n",
      "Non-trainable params: 0\n",
      "_________________________________________________________________\n"
     ]
    }
   ],
   "source": [
    "model.summary()"
   ]
  },
  {
   "cell_type": "code",
   "execution_count": 64,
   "metadata": {},
   "outputs": [],
   "source": [
    "from tensorflow.keras import optimizers"
   ]
  },
  {
   "cell_type": "code",
   "execution_count": 65,
   "metadata": {},
   "outputs": [],
   "source": [
    "model.compile(loss='binary_crossentropy', optimizer=optimizers.RMSprop(learning_rate=1e-4) , metrics=['accuracy'])"
   ]
  },
  {
   "cell_type": "code",
   "execution_count": 68,
   "metadata": {},
   "outputs": [
    {
     "name": "stderr",
     "output_type": "stream",
     "text": [
      "C:\\Users\\smite\\AppData\\Local\\Temp\\ipykernel_32016\\204674745.py:1: UserWarning: `Model.fit_generator` is deprecated and will be removed in a future version. Please use `Model.fit`, which supports generators.\n",
      "  history = model.fit_generator(\n"
     ]
    },
    {
     "name": "stdout",
     "output_type": "stream",
     "text": [
      "Epoch 1/20\n",
      "100/100 [==============================] - 27s 72ms/step - loss: 0.6846 - accuracy: 0.5465 - val_loss: 0.6679 - val_accuracy: 0.6160\n",
      "Epoch 2/20\n",
      "100/100 [==============================] - 5s 55ms/step - loss: 0.6494 - accuracy: 0.6250 - val_loss: 0.6283 - val_accuracy: 0.6480\n",
      "Epoch 3/20\n",
      "100/100 [==============================] - 5s 49ms/step - loss: 0.5900 - accuracy: 0.6780 - val_loss: 0.6014 - val_accuracy: 0.6740\n",
      "Epoch 4/20\n",
      "100/100 [==============================] - 5s 49ms/step - loss: 0.5604 - accuracy: 0.7080 - val_loss: 0.6012 - val_accuracy: 0.6660\n",
      "Epoch 5/20\n",
      "100/100 [==============================] - 5s 52ms/step - loss: 0.5383 - accuracy: 0.7250 - val_loss: 0.5797 - val_accuracy: 0.6910\n",
      "Epoch 6/20\n",
      "100/100 [==============================] - 6s 60ms/step - loss: 0.5133 - accuracy: 0.7500 - val_loss: 0.5717 - val_accuracy: 0.6800\n",
      "Epoch 7/20\n",
      "100/100 [==============================] - 6s 60ms/step - loss: 0.4906 - accuracy: 0.7620 - val_loss: 0.6200 - val_accuracy: 0.6710\n",
      "Epoch 8/20\n",
      "100/100 [==============================] - 6s 61ms/step - loss: 0.4749 - accuracy: 0.7680 - val_loss: 0.5974 - val_accuracy: 0.6850\n",
      "Epoch 9/20\n",
      "100/100 [==============================] - 6s 61ms/step - loss: 0.4537 - accuracy: 0.7825 - val_loss: 0.5629 - val_accuracy: 0.7020\n",
      "Epoch 10/20\n",
      "100/100 [==============================] - 6s 63ms/step - loss: 0.4212 - accuracy: 0.8125 - val_loss: 0.5551 - val_accuracy: 0.7070\n",
      "Epoch 11/20\n",
      "100/100 [==============================] - 7s 71ms/step - loss: 0.3888 - accuracy: 0.8285 - val_loss: 0.6022 - val_accuracy: 0.7090\n",
      "Epoch 12/20\n",
      "100/100 [==============================] - 7s 70ms/step - loss: 0.3658 - accuracy: 0.8420 - val_loss: 0.5882 - val_accuracy: 0.7120\n",
      "Epoch 13/20\n",
      "100/100 [==============================] - 7s 68ms/step - loss: 0.3365 - accuracy: 0.8540 - val_loss: 0.6334 - val_accuracy: 0.7010\n",
      "Epoch 14/20\n",
      "100/100 [==============================] - 7s 69ms/step - loss: 0.3258 - accuracy: 0.8645 - val_loss: 0.5705 - val_accuracy: 0.7090\n",
      "Epoch 15/20\n",
      "100/100 [==============================] - 7s 72ms/step - loss: 0.3029 - accuracy: 0.8795 - val_loss: 0.5785 - val_accuracy: 0.7280\n",
      "Epoch 16/20\n",
      "100/100 [==============================] - 7s 71ms/step - loss: 0.2745 - accuracy: 0.8890 - val_loss: 0.5577 - val_accuracy: 0.7270\n",
      "Epoch 17/20\n",
      "100/100 [==============================] - 7s 75ms/step - loss: 0.2591 - accuracy: 0.8960 - val_loss: 0.6075 - val_accuracy: 0.7270\n",
      "Epoch 18/20\n",
      "100/100 [==============================] - 8s 76ms/step - loss: 0.2264 - accuracy: 0.9095 - val_loss: 0.5803 - val_accuracy: 0.7310\n",
      "Epoch 19/20\n",
      "100/100 [==============================] - 7s 75ms/step - loss: 0.2041 - accuracy: 0.9235 - val_loss: 0.6621 - val_accuracy: 0.7340\n",
      "Epoch 20/20\n",
      "100/100 [==============================] - 8s 81ms/step - loss: 0.1918 - accuracy: 0.9315 - val_loss: 0.7157 - val_accuracy: 0.7130\n"
     ]
    }
   ],
   "source": [
    "history = model.fit_generator(\n",
    "    train_generator,\n",
    "    steps_per_epoch=100,\n",
    "    epochs=20,\n",
    "    validation_data=validation_generator,\n",
    "    validation_steps=50)"
   ]
  }
 ],
 "metadata": {
  "kernelspec": {
   "display_name": "Python 3",
   "language": "python",
   "name": "python3"
  },
  "language_info": {
   "codemirror_mode": {
    "name": "ipython",
    "version": 3
   },
   "file_extension": ".py",
   "mimetype": "text/x-python",
   "name": "python",
   "nbconvert_exporter": "python",
   "pygments_lexer": "ipython3",
   "version": "0.0.0"
  }
 },
 "nbformat": 4,
 "nbformat_minor": 2
}
